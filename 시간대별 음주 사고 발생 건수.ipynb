{
 "cells": [
  {
   "cell_type": "markdown",
   "id": "2dd6119c",
   "metadata": {},
   "source": [
    "## 전체사고_시간대별_데이터"
   ]
  },
  {
   "cell_type": "code",
   "execution_count": 29,
   "id": "4207bdaf",
   "metadata": {},
   "outputs": [
    {
     "data": {
      "text/html": [
       "<div>\n",
       "<style scoped>\n",
       "    .dataframe tbody tr th:only-of-type {\n",
       "        vertical-align: middle;\n",
       "    }\n",
       "\n",
       "    .dataframe tbody tr th {\n",
       "        vertical-align: top;\n",
       "    }\n",
       "\n",
       "    .dataframe thead th {\n",
       "        text-align: right;\n",
       "    }\n",
       "</style>\n",
       "<table border=\"1\" class=\"dataframe\">\n",
       "  <thead>\n",
       "    <tr style=\"text-align: right;\">\n",
       "      <th></th>\n",
       "      <th>2015</th>\n",
       "      <th>2016</th>\n",
       "      <th>2017</th>\n",
       "      <th>2018</th>\n",
       "      <th>2019</th>\n",
       "      <th>2020</th>\n",
       "      <th>2021</th>\n",
       "      <th>2022</th>\n",
       "      <th>2023</th>\n",
       "      <th>2024</th>\n",
       "    </tr>\n",
       "    <tr>\n",
       "      <th>사고시간대</th>\n",
       "      <th></th>\n",
       "      <th></th>\n",
       "      <th></th>\n",
       "      <th></th>\n",
       "      <th></th>\n",
       "      <th></th>\n",
       "      <th></th>\n",
       "      <th></th>\n",
       "      <th></th>\n",
       "      <th></th>\n",
       "    </tr>\n",
       "  </thead>\n",
       "  <tbody>\n",
       "    <tr>\n",
       "      <th>0시~2시</th>\n",
       "      <td>13201</td>\n",
       "      <td>11853</td>\n",
       "      <td>10905</td>\n",
       "      <td>10407</td>\n",
       "      <td>9708</td>\n",
       "      <td>8740</td>\n",
       "      <td>5968</td>\n",
       "      <td>6784</td>\n",
       "      <td>6680</td>\n",
       "      <td>6084</td>\n",
       "    </tr>\n",
       "    <tr>\n",
       "      <th>2시~4시</th>\n",
       "      <td>7752</td>\n",
       "      <td>6930</td>\n",
       "      <td>6262</td>\n",
       "      <td>6208</td>\n",
       "      <td>5703</td>\n",
       "      <td>4782</td>\n",
       "      <td>2801</td>\n",
       "      <td>3569</td>\n",
       "      <td>3773</td>\n",
       "      <td>3395</td>\n",
       "    </tr>\n",
       "    <tr>\n",
       "      <th>4시~6시</th>\n",
       "      <td>7291</td>\n",
       "      <td>6941</td>\n",
       "      <td>6651</td>\n",
       "      <td>6577</td>\n",
       "      <td>6359</td>\n",
       "      <td>5233</td>\n",
       "      <td>3762</td>\n",
       "      <td>4358</td>\n",
       "      <td>4686</td>\n",
       "      <td>4652</td>\n",
       "    </tr>\n",
       "    <tr>\n",
       "      <th>6시~8시</th>\n",
       "      <td>13873</td>\n",
       "      <td>13344</td>\n",
       "      <td>12871</td>\n",
       "      <td>12754</td>\n",
       "      <td>13178</td>\n",
       "      <td>11515</td>\n",
       "      <td>10725</td>\n",
       "      <td>10657</td>\n",
       "      <td>11511</td>\n",
       "      <td>11825</td>\n",
       "    </tr>\n",
       "    <tr>\n",
       "      <th>8시~10시</th>\n",
       "      <td>22112</td>\n",
       "      <td>21889</td>\n",
       "      <td>21901</td>\n",
       "      <td>22299</td>\n",
       "      <td>23971</td>\n",
       "      <td>19795</td>\n",
       "      <td>19654</td>\n",
       "      <td>20490</td>\n",
       "      <td>21524</td>\n",
       "      <td>21912</td>\n",
       "    </tr>\n",
       "  </tbody>\n",
       "</table>\n",
       "</div>"
      ],
      "text/plain": [
       "         2015   2016   2017   2018   2019   2020   2021   2022   2023   2024\n",
       "사고시간대                                                                       \n",
       "0시~2시   13201  11853  10905  10407   9708   8740   5968   6784   6680   6084\n",
       "2시~4시    7752   6930   6262   6208   5703   4782   2801   3569   3773   3395\n",
       "4시~6시    7291   6941   6651   6577   6359   5233   3762   4358   4686   4652\n",
       "6시~8시   13873  13344  12871  12754  13178  11515  10725  10657  11511  11825\n",
       "8시~10시  22112  21889  21901  22299  23971  19795  19654  20490  21524  21912"
      ]
     },
     "execution_count": 29,
     "metadata": {},
     "output_type": "execute_result"
    }
   ],
   "source": [
    "import pandas as pd\n",
    "\n",
    "# CSV 파일 경로\n",
    "file_path = \"C:/Users/SAMSUNG/OneDrive/바탕 화면/workspace/미드프로젝트/데이터 수집/전체사고_시간대별_데이터.csv\"\n",
    "\n",
    "# CSV 파일 불러오기 (MultiIndex 컬럼)\n",
    "df = pd.read_csv(file_path, header=[0, 1])\n",
    "\n",
    "# '사고시간대' 컬럼 찾기\n",
    "time_col = [col for col in df.columns if '사고시간대' in str(col)][0]\n",
    "\n",
    "# '사고시간대'가 '합계'가 아닌 행만 필터링\n",
    "df = df[df[time_col] != '합계'].copy()\n",
    "\n",
    "# '사고[건]'에 해당하는 컬럼만 추출\n",
    "accident_cols = [col for col in df.columns if col[1] == '사고[건]']\n",
    "\n",
    "# 사고시간대와 사고 건수 컬럼만 선택\n",
    "df_extract = df[[time_col] + accident_cols].copy()\n",
    "\n",
    "# 컬럼 이름 정리 (예: '2015 사고[건]' → '2015')\n",
    "df_extract.columns = ['사고시간대'] + [str(col[0]) for col in accident_cols]\n",
    "\n",
    "# 쉼표 제거 및 숫자형 변환 (결측값은 0으로 처리)\n",
    "for col in df_extract.columns[1:]:\n",
    "    df_extract[col] = (\n",
    "        df_extract[col].astype(str)\n",
    "        .str.replace(',', '', regex=False)\n",
    "        .replace('nan', '0')\n",
    "        .astype(int)\n",
    "    )\n",
    "\n",
    "# 사고시간대를 인덱스로 설정\n",
    "df_extract.set_index('사고시간대', inplace=True)\n",
    "\n",
    "# 결과 미리보기\n",
    "df_extract.head()"
   ]
  },
  {
   "cell_type": "code",
   "execution_count": 31,
   "id": "3e45aaa9",
   "metadata": {},
   "outputs": [
    {
     "name": "stdout",
     "output_type": "stream",
     "text": [
      "✅ 저장 완료: 연도별_전체사고_시간대별_건수.csv\n"
     ]
    }
   ],
   "source": [
    "# CSV로 저장\n",
    "output_path = \"연도별_전체사고_시간대별_건수.csv\"\n",
    "df_extract.to_csv(output_path, encoding='utf-8-sig')\n",
    "\n",
    "# 저장 완료 메시지\n",
    "print(f\"✅ 저장 완료: {output_path}\")"
   ]
  },
  {
   "cell_type": "markdown",
   "id": "a4011a8f",
   "metadata": {},
   "source": [
    "### 새벽시간대_전체사고건수"
   ]
  },
  {
   "cell_type": "code",
   "execution_count": 51,
   "id": "e929798d",
   "metadata": {
    "scrolled": false
   },
   "outputs": [
    {
     "name": "stdout",
     "output_type": "stream",
     "text": [
      "     연도  새벽사고건수\n",
      "0  2015   28244\n",
      "1  2016   25724\n",
      "2  2017   23818\n",
      "3  2018   23192\n",
      "4  2019   21770\n",
      "5  2020   18755\n",
      "6  2021   12531\n",
      "7  2022   14711\n",
      "8  2023   15139\n",
      "9  2024   14131\n"
     ]
    }
   ],
   "source": [
    "import pandas as pd\n",
    "\n",
    "# CSV 파일 불러오기\n",
    "df = pd.read_csv(\"C:/Users/SAMSUNG/OneDrive/바탕 화면/workspace/미드프로젝트/데이터 수집/연도별_전체사고_시간대별_건수.csv\"\n",
    ")\n",
    "\n",
    "# 새벽 시간대 리스트 (0시~6시까지)\n",
    "early_hours = ['0시~2시', '2시~4시', '4시~6시']\n",
    "\n",
    "# 사고시간대를 index로 설정\n",
    "df.set_index('사고시간대', inplace=True)\n",
    "\n",
    "# 새벽 시간대 데이터만 추출\n",
    "df_early = df.loc[early_hours]\n",
    "\n",
    "# 연도별로 새벽 시간대 사고 건수 합산\n",
    "df_early_sum = df_early.sum().reset_index()\n",
    "df_early_sum.columns = ['연도', '새벽사고건수']\n",
    "\n",
    "# 결과 확인\n",
    "print(df_early_sum)"
   ]
  },
  {
   "cell_type": "code",
   "execution_count": 52,
   "id": "d4ce794a",
   "metadata": {},
   "outputs": [
    {
     "name": "stdout",
     "output_type": "stream",
     "text": [
      "CSV 파일이 저장되었습니다: C:/Users/SAMSUNG/OneDrive/바탕 화면/workspace/미드프로젝트/데이터 수집/연도별_새벽전체사고_건수.csv\n"
     ]
    }
   ],
   "source": [
    "# ✅ UTF-8로 저장 (Tableau에서 한글 깨짐 방지)\n",
    "output_path = \"C:/Users/SAMSUNG/OneDrive/바탕 화면/workspace/미드프로젝트/데이터 수집/연도별_새벽전체사고_건수.csv\"\n",
    "df_early_sum.to_csv(output_path, index=False, encoding='utf-8-sig')\n",
    "\n",
    "print(f\"CSV 파일이 저장되었습니다: {output_path}\")"
   ]
  },
  {
   "cell_type": "markdown",
   "id": "dfe038e8",
   "metadata": {},
   "source": [
    "### 숙취운전 시간대 전체사고 건수"
   ]
  },
  {
   "cell_type": "code",
   "execution_count": 7,
   "id": "6ccd81e7",
   "metadata": {
    "scrolled": true
   },
   "outputs": [
    {
     "name": "stdout",
     "output_type": "stream",
     "text": [
      "     연도  06~10시_사고건수\n",
      "0  2015        35985\n",
      "1  2016        35233\n",
      "2  2017        34772\n",
      "3  2018        35053\n",
      "4  2019        37149\n",
      "5  2020        31310\n",
      "6  2021        30379\n",
      "7  2022        31147\n",
      "8  2023        33035\n",
      "9  2024        33737\n"
     ]
    }
   ],
   "source": [
    "import pandas as pd\n",
    "\n",
    "# CSV 파일 경로\n",
    "file_path = \"연도별_전체사고_시간대별_건수.csv\"  # 경로를 필요에 따라 수정하세요\n",
    "\n",
    "# 파일 읽기\n",
    "df = pd.read_csv(file_path)\n",
    "\n",
    "# '사고시간대'를 인덱스로 설정\n",
    "df.set_index('사고시간대', inplace=True)\n",
    "\n",
    "# 06시~10시 시간대 리스트\n",
    "target_hours = ['6시~8시', '8시~10시']\n",
    "\n",
    "# 해당 시간대 추출\n",
    "df_morning = df.loc[target_hours]\n",
    "\n",
    "# 연도별 사고건수 합산\n",
    "df_sum = df_morning.sum().reset_index()\n",
    "df_sum.columns = ['연도', '06~10시_사고건수']\n",
    "\n",
    "# 결과 확인\n",
    "print(df_sum)"
   ]
  },
  {
   "cell_type": "code",
   "execution_count": 9,
   "id": "d0ecbb5e",
   "metadata": {},
   "outputs": [
    {
     "name": "stdout",
     "output_type": "stream",
     "text": [
      "✅ 저장 완료: 연도별_06~10시_전체사고건수.csv\n"
     ]
    }
   ],
   "source": [
    "# CSV로 저장\n",
    "output_path = \"연도별_06~10시_전체사고건수.csv\"\n",
    "df_sum.to_csv(output_path, index=False, encoding='utf-8-sig')\n",
    "print(f\"✅ 저장 완료: {output_path}\")"
   ]
  },
  {
   "cell_type": "markdown",
   "id": "b6a893cb",
   "metadata": {},
   "source": [
    "## 음주사고_시간대별_데이터"
   ]
  },
  {
   "cell_type": "code",
   "execution_count": 34,
   "id": "fe4450b7",
   "metadata": {},
   "outputs": [
    {
     "data": {
      "text/html": [
       "<div>\n",
       "<style scoped>\n",
       "    .dataframe tbody tr th:only-of-type {\n",
       "        vertical-align: middle;\n",
       "    }\n",
       "\n",
       "    .dataframe tbody tr th {\n",
       "        vertical-align: top;\n",
       "    }\n",
       "\n",
       "    .dataframe thead th {\n",
       "        text-align: right;\n",
       "    }\n",
       "</style>\n",
       "<table border=\"1\" class=\"dataframe\">\n",
       "  <thead>\n",
       "    <tr style=\"text-align: right;\">\n",
       "      <th></th>\n",
       "      <th>2015</th>\n",
       "      <th>2016</th>\n",
       "      <th>2017</th>\n",
       "      <th>2018</th>\n",
       "      <th>2019</th>\n",
       "      <th>2020</th>\n",
       "      <th>2021</th>\n",
       "      <th>2022</th>\n",
       "      <th>2023</th>\n",
       "      <th>2024</th>\n",
       "    </tr>\n",
       "    <tr>\n",
       "      <th>사고시간대</th>\n",
       "      <th></th>\n",
       "      <th></th>\n",
       "      <th></th>\n",
       "      <th></th>\n",
       "      <th></th>\n",
       "      <th></th>\n",
       "      <th></th>\n",
       "      <th></th>\n",
       "      <th></th>\n",
       "      <th></th>\n",
       "    </tr>\n",
       "  </thead>\n",
       "  <tbody>\n",
       "    <tr>\n",
       "      <th>0시~2시</th>\n",
       "      <td>4014</td>\n",
       "      <td>3212</td>\n",
       "      <td>3124</td>\n",
       "      <td>3034</td>\n",
       "      <td>2508</td>\n",
       "      <td>2653</td>\n",
       "      <td>1728</td>\n",
       "      <td>2153</td>\n",
       "      <td>1871</td>\n",
       "      <td>1603</td>\n",
       "    </tr>\n",
       "    <tr>\n",
       "      <th>2시~4시</th>\n",
       "      <td>2531</td>\n",
       "      <td>2110</td>\n",
       "      <td>1983</td>\n",
       "      <td>1928</td>\n",
       "      <td>1556</td>\n",
       "      <td>1549</td>\n",
       "      <td>831</td>\n",
       "      <td>1154</td>\n",
       "      <td>1124</td>\n",
       "      <td>965</td>\n",
       "    </tr>\n",
       "    <tr>\n",
       "      <th>4시~6시</th>\n",
       "      <td>1786</td>\n",
       "      <td>1537</td>\n",
       "      <td>1425</td>\n",
       "      <td>1463</td>\n",
       "      <td>1171</td>\n",
       "      <td>1139</td>\n",
       "      <td>564</td>\n",
       "      <td>801</td>\n",
       "      <td>831</td>\n",
       "      <td>734</td>\n",
       "    </tr>\n",
       "    <tr>\n",
       "      <th>6시~8시</th>\n",
       "      <td>1422</td>\n",
       "      <td>1221</td>\n",
       "      <td>1161</td>\n",
       "      <td>1146</td>\n",
       "      <td>1031</td>\n",
       "      <td>905</td>\n",
       "      <td>482</td>\n",
       "      <td>692</td>\n",
       "      <td>763</td>\n",
       "      <td>659</td>\n",
       "    </tr>\n",
       "    <tr>\n",
       "      <th>8시~10시</th>\n",
       "      <td>771</td>\n",
       "      <td>706</td>\n",
       "      <td>750</td>\n",
       "      <td>728</td>\n",
       "      <td>631</td>\n",
       "      <td>655</td>\n",
       "      <td>411</td>\n",
       "      <td>575</td>\n",
       "      <td>622</td>\n",
       "      <td>578</td>\n",
       "    </tr>\n",
       "  </tbody>\n",
       "</table>\n",
       "</div>"
      ],
      "text/plain": [
       "        2015  2016  2017  2018  2019  2020  2021  2022  2023  2024\n",
       "사고시간대                                                             \n",
       "0시~2시   4014  3212  3124  3034  2508  2653  1728  2153  1871  1603\n",
       "2시~4시   2531  2110  1983  1928  1556  1549   831  1154  1124   965\n",
       "4시~6시   1786  1537  1425  1463  1171  1139   564   801   831   734\n",
       "6시~8시   1422  1221  1161  1146  1031   905   482   692   763   659\n",
       "8시~10시   771   706   750   728   631   655   411   575   622   578"
      ]
     },
     "execution_count": 34,
     "metadata": {},
     "output_type": "execute_result"
    }
   ],
   "source": [
    "import pandas as pd\n",
    "\n",
    "# CSV 파일 경로\n",
    "file_path = \"C:/Users/SAMSUNG/OneDrive/바탕 화면/workspace/미드프로젝트/데이터 수집/음주사고_시간대별_데이터.csv\"\n",
    "\n",
    "# CSV 파일 불러오기 (MultiIndex 컬럼)\n",
    "df = pd.read_csv(file_path, header=[0, 1])\n",
    "\n",
    "# '사고시간대' 컬럼 찾기\n",
    "time_col = [col for col in df.columns if '사고시간대' in str(col)][0]\n",
    "\n",
    "# '사고시간대'가 '합계'가 아닌 행만 필터링\n",
    "df = df[df[time_col] != '합계'].copy()\n",
    "\n",
    "# '사고[건]'에 해당하는 컬럼만 추출\n",
    "accident_cols = [col for col in df.columns if col[1] == '사고[건]']\n",
    "\n",
    "# 사고시간대와 사고 건수 컬럼만 선택\n",
    "df_extract = df[[time_col] + accident_cols].copy()\n",
    "\n",
    "# 컬럼 이름 정리 (예: '2015 사고[건]' → '2015')\n",
    "df_extract.columns = ['사고시간대'] + [str(col[0]) for col in accident_cols]\n",
    "\n",
    "# 쉼표 제거 및 숫자형 변환 (결측값은 0으로 처리)\n",
    "for col in df_extract.columns[1:]:\n",
    "    df_extract[col] = (\n",
    "        df_extract[col].astype(str)\n",
    "        .str.replace(',', '', regex=False)\n",
    "        .replace('nan', '0')\n",
    "        .astype(int)\n",
    "    )\n",
    "\n",
    "# 사고시간대를 인덱스로 설정\n",
    "df_extract.set_index('사고시간대', inplace=True)\n",
    "\n",
    "# 결과 미리보기\n",
    "df_extract.head()"
   ]
  },
  {
   "cell_type": "code",
   "execution_count": 41,
   "id": "f03fe7a1",
   "metadata": {},
   "outputs": [
    {
     "name": "stdout",
     "output_type": "stream",
     "text": [
      "✅ 저장 완료: 연도별_음주사고_시간대별_건수.csv\n"
     ]
    }
   ],
   "source": [
    "# CSV로 저장\n",
    "output_path = \"연도별_음주사고_시간대별_건수.csv\"\n",
    "df_extract.to_csv(output_path, encoding='utf-8-sig')\n",
    "\n",
    "# 저장 완료 메시지\n",
    "print(f\"✅ 저장 완료: {output_path}\")"
   ]
  },
  {
   "cell_type": "markdown",
   "id": "c599f29c",
   "metadata": {},
   "source": [
    "#### 새벽시간대_음주사고건수"
   ]
  },
  {
   "cell_type": "code",
   "execution_count": 53,
   "id": "91c6b472",
   "metadata": {},
   "outputs": [
    {
     "name": "stdout",
     "output_type": "stream",
     "text": [
      "     연도  새벽사고건수\n",
      "0  2015    8331\n",
      "1  2016    6859\n",
      "2  2017    6532\n",
      "3  2018    6425\n",
      "4  2019    5235\n",
      "5  2020    5341\n",
      "6  2021    3123\n",
      "7  2022    4108\n",
      "8  2023    3826\n",
      "9  2024    3302\n"
     ]
    }
   ],
   "source": [
    "import pandas as pd\n",
    "\n",
    "# CSV 파일 불러오기\n",
    "df = pd.read_csv(\"C:/Users/SAMSUNG/OneDrive/바탕 화면/workspace/미드프로젝트/데이터 수집/연도별_음주사고_시간대별_건수.csv\"\n",
    ")\n",
    "\n",
    "# 새벽 시간대 리스트 (0시~6시까지)\n",
    "early_hours = ['0시~2시', '2시~4시', '4시~6시']\n",
    "\n",
    "# 사고시간대를 index로 설정\n",
    "df.set_index('사고시간대', inplace=True)\n",
    "\n",
    "# 새벽 시간대 데이터만 추출\n",
    "df_early = df.loc[early_hours]\n",
    "\n",
    "# 연도별로 새벽 시간대 사고 건수 합산\n",
    "df_early_sum = df_early.sum().reset_index()\n",
    "df_early_sum.columns = ['연도', '새벽사고건수']\n",
    "\n",
    "# 결과 확인\n",
    "print(df_early_sum)"
   ]
  },
  {
   "cell_type": "code",
   "execution_count": 54,
   "id": "04c18cf6",
   "metadata": {},
   "outputs": [
    {
     "name": "stdout",
     "output_type": "stream",
     "text": [
      "CSV 파일이 저장되었습니다: C:/Users/SAMSUNG/OneDrive/바탕 화면/workspace/미드프로젝트/데이터 수집/연도별_새벽음주사고_건수.csv\n"
     ]
    }
   ],
   "source": [
    "# ✅ UTF-8로 저장 (Tableau에서 한글 깨짐 방지)\n",
    "output_path = \"C:/Users/SAMSUNG/OneDrive/바탕 화면/workspace/미드프로젝트/데이터 수집/연도별_새벽음주사고_건수.csv\"\n",
    "df_early_sum.to_csv(output_path, index=False, encoding='utf-8-sig')\n",
    "\n",
    "print(f\"CSV 파일이 저장되었습니다: {output_path}\")"
   ]
  },
  {
   "cell_type": "markdown",
   "id": "89f09647",
   "metadata": {},
   "source": [
    "### 숙취운전 건수"
   ]
  },
  {
   "cell_type": "code",
   "execution_count": 10,
   "id": "afdbe59f",
   "metadata": {},
   "outputs": [
    {
     "name": "stdout",
     "output_type": "stream",
     "text": [
      "     연도  06~10시_사고건수\n",
      "0  2015         2193\n",
      "1  2016         1927\n",
      "2  2017         1911\n",
      "3  2018         1874\n",
      "4  2019         1662\n",
      "5  2020         1560\n",
      "6  2021          893\n",
      "7  2022         1267\n",
      "8  2023         1385\n",
      "9  2024         1237\n"
     ]
    }
   ],
   "source": [
    "import pandas as pd\n",
    "\n",
    "# CSV 파일 경로\n",
    "file_path = \"연도별_음주사고_시간대별_건수.csv\"  # 경로를 필요에 따라 수정하세요\n",
    "\n",
    "# 파일 읽기\n",
    "df = pd.read_csv(file_path)\n",
    "\n",
    "# '사고시간대'를 인덱스로 설정\n",
    "df.set_index('사고시간대', inplace=True)\n",
    "\n",
    "# 06시~10시 시간대 리스트\n",
    "target_hours = ['6시~8시', '8시~10시']\n",
    "\n",
    "# 해당 시간대 추출\n",
    "df_morning = df.loc[target_hours]\n",
    "\n",
    "# 연도별 사고건수 합산\n",
    "df_sum = df_morning.sum().reset_index()\n",
    "df_sum.columns = ['연도', '06~10시_사고건수']\n",
    "\n",
    "# 결과 확인\n",
    "print(df_sum)"
   ]
  },
  {
   "cell_type": "code",
   "execution_count": 11,
   "id": "c652c77b",
   "metadata": {},
   "outputs": [
    {
     "name": "stdout",
     "output_type": "stream",
     "text": [
      "✅ 저장 완료: 연도별_06~10시_음주사고건수.csv\n"
     ]
    }
   ],
   "source": [
    "# CSV로 저장\n",
    "output_path = \"연도별_06~10시_음주사고건수.csv\"\n",
    "df_sum.to_csv(output_path, index=False, encoding='utf-8-sig')\n",
    "print(f\"✅ 저장 완료: {output_path}\")"
   ]
  }
 ],
 "metadata": {
  "hide_input": false,
  "kernelspec": {
   "display_name": "Python 3 (ipykernel)",
   "language": "python",
   "name": "python3"
  },
  "language_info": {
   "codemirror_mode": {
    "name": "ipython",
    "version": 3
   },
   "file_extension": ".py",
   "mimetype": "text/x-python",
   "name": "python",
   "nbconvert_exporter": "python",
   "pygments_lexer": "ipython3",
   "version": "3.11.4"
  },
  "varInspector": {
   "cols": {
    "lenName": 16,
    "lenType": 16,
    "lenVar": 40
   },
   "kernels_config": {
    "python": {
     "delete_cmd_postfix": "",
     "delete_cmd_prefix": "del ",
     "library": "var_list.py",
     "varRefreshCmd": "print(var_dic_list())"
    },
    "r": {
     "delete_cmd_postfix": ") ",
     "delete_cmd_prefix": "rm(",
     "library": "var_list.r",
     "varRefreshCmd": "cat(var_dic_list()) "
    }
   },
   "types_to_exclude": [
    "module",
    "function",
    "builtin_function_or_method",
    "instance",
    "_Feature"
   ],
   "window_display": false
  }
 },
 "nbformat": 4,
 "nbformat_minor": 5
}
