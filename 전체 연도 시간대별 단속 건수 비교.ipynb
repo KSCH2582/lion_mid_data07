{
 "cells": [
  {
   "cell_type": "markdown",
   "id": "ee8ca92d",
   "metadata": {},
   "source": [
    "### 연도별 평균 알콜 농도"
   ]
  },
  {
   "cell_type": "code",
   "execution_count": 2,
   "id": "d442ff0b",
   "metadata": {
    "scrolled": true
   },
   "outputs": [
    {
     "name": "stdout",
     "output_type": "stream",
     "text": [
      "     연도    평균알콜농도\n",
      "0  2014  0.110261\n",
      "1  2015  0.109902\n",
      "2  2016  0.109646\n",
      "3  2017  0.113000\n",
      "4  2018  0.116402\n",
      "5  2019  0.111564\n",
      "6  2020  0.119848\n",
      "7  2021  0.118495\n",
      "8  2022  0.118426\n",
      "9  2023  0.112943\n"
     ]
    }
   ],
   "source": [
    "import pandas as pd\n",
    "\n",
    "# CSV 파일 불러오기\n",
    "file_path = \"C:/Users/SAMSUNG/OneDrive/바탕 화면/workspace/미드프로젝트/데이터 분석/데이터 전처리/전체 연도 시간대별 단속 건수 비교/data/fixedData.csv\"\n",
    "df = pd.read_csv(file_path)\n",
    "\n",
    "# 데이터 확인 (필요한 경우 주석 해제하여 확인 가능)\n",
    "# print(df.head())\n",
    "# print(df.columns)\n",
    "\n",
    "# 연도별 평균 알콜농도 계산\n",
    "# '연도'와 '알콜농도' 컬럼이 있다고 가정\n",
    "df_mean = df.groupby('연도')['알콜농도'].mean().reset_index()\n",
    "\n",
    "# 컬럼명 정리\n",
    "df_mean.columns = ['연도', '평균알콜농도']\n",
    "\n",
    "# 결과 확인\n",
    "print(df_mean)"
   ]
  },
  {
   "cell_type": "markdown",
   "id": "32b4b790",
   "metadata": {},
   "source": [
    "#### 파일로 저장"
   ]
  },
  {
   "cell_type": "code",
   "execution_count": null,
   "id": "7267d5f4",
   "metadata": {},
   "outputs": [],
   "source": [
    "# CSV 파일로 저장\n",
    "output_path = \"/mnt/data/연도별_평균_알콜농도.csv\"\n",
    "df_mean.to_csv(output_path, index=False)\n",
    "print(f\"✅ 저장 완료: {output_path}\")"
   ]
  },
  {
   "cell_type": "markdown",
   "id": "072ecf6e",
   "metadata": {},
   "source": [
    "### 연도별 & 시간대별 단속 건수 비교"
   ]
  },
  {
   "cell_type": "code",
   "execution_count": 9,
   "id": "6c018d7b",
   "metadata": {},
   "outputs": [
    {
     "name": "stdout",
     "output_type": "stream",
     "text": [
      "      연도  시간   단속건수\n",
      "0   2014   0  36104\n",
      "1   2014   1  20086\n",
      "2   2014   2  12050\n",
      "3   2014   3   8239\n",
      "4   2014   4   7041\n",
      "5   2014   5   5753\n",
      "6   2014   6   4734\n",
      "7   2014   7   3938\n",
      "8   2014   8   3060\n",
      "9   2014   9   2875\n",
      "10  2014  10   2068\n",
      "11  2014  11   1416\n",
      "12  2014  12   1020\n",
      "13  2014  13   1471\n",
      "14  2014  14   2669\n",
      "15  2014  15   2808\n",
      "16  2014  16   2758\n",
      "17  2014  17   2782\n",
      "18  2014  18   3091\n",
      "19  2014  19   4794\n",
      "20  2014  20  11095\n",
      "21  2014  21  24593\n",
      "22  2014  22  39372\n",
      "23  2014  23  45168\n",
      "24  2015   0  32224\n",
      "25  2015   1  19146\n",
      "26  2015   2  12261\n",
      "27  2015   3   9176\n",
      "28  2015   4   7501\n",
      "29  2015   5   6517\n"
     ]
    }
   ],
   "source": [
    "import pandas as pd\n",
    "\n",
    "# 파일 경로\n",
    "file_path = \"C:/Users/SAMSUNG/OneDrive/바탕 화면/workspace/미드프로젝트/데이터 분석/데이터 전처리/전체 연도 시간대별 단속 건수 비교/data/fixedData.csv\"\n",
    "\n",
    "# CSV 파일 불러오기\n",
    "df = pd.read_csv(file_path)\n",
    "\n",
    "# 측정일시 컬럼을 datetime 형식으로 변환\n",
    "df['측정일시'] = pd.to_datetime(df['측정일시'], errors='coerce')\n",
    "\n",
    "# 연도와 시간(시 단위) 추출\n",
    "df['연도'] = df['측정일시'].dt.year\n",
    "df['시간'] = df['측정일시'].dt.hour\n",
    "\n",
    "# 연도별 + 시간별 단속건수 집계 (단순히 행 수)\n",
    "df_grouped = df.groupby(['연도', '시간']).size().reset_index(name='단속건수')\n",
    "\n",
    "# 결과 확인\n",
    "print(df_grouped.head(30))  # 앞 30개만 출력"
   ]
  },
  {
   "cell_type": "code",
   "execution_count": 7,
   "id": "71a7dd9d",
   "metadata": {},
   "outputs": [
    {
     "name": "stdout",
     "output_type": "stream",
     "text": [
      "▶ 2014년 0~2시 단속 건수:\n",
      "     연도  시간   단속건수\n",
      "0  2014   0  36104\n",
      "1  2014   1  20086\n",
      "2  2014   2  12050\n",
      "\n",
      "✅ 합계: 68240\n"
     ]
    }
   ],
   "source": [
    "import pandas as pd\n",
    "\n",
    "# 파일 불러오기\n",
    "file_path = \"C:/Users/SAMSUNG/OneDrive/바탕 화면/workspace/미드프로젝트/데이터 분석/데이터 전처리/전체 연도 시간대별 단속 건수 비교/data/fixedData.csv\"\n",
    "df = pd.read_csv(file_path)\n",
    "\n",
    "# '측정일시'를 datetime 형식으로 변환\n",
    "df['측정일시'] = pd.to_datetime(df['측정일시'], errors='coerce')\n",
    "\n",
    "# 연도와 시간 추출\n",
    "df['연도'] = df['측정일시'].dt.year\n",
    "df['시간'] = df['측정일시'].dt.hour\n",
    "\n",
    "# 연도별 시간별 단속 건수 계산 (단순히 행의 수)\n",
    "df_grouped = df.groupby(['연도', '시간']).size().reset_index(name='단속건수')\n",
    "\n",
    "# 예: 2014년 0~2시 합계 확인\n",
    "df_2014_early = df_grouped[(df_grouped['연도'] == 2014) & (df_grouped['시간'].isin([0, 1, 2]))]\n",
    "\n",
    "print(\"▶ 2014년 0~2시 단속 건수:\")\n",
    "print(df_2014_early)\n",
    "\n",
    "print(\"\\n✅ 합계:\", df_2014_early['단속건수'].sum())\n"
   ]
  },
  {
   "cell_type": "markdown",
   "id": "75c04f3b",
   "metadata": {},
   "source": [
    "#### 파일로 저장"
   ]
  },
  {
   "cell_type": "code",
   "execution_count": 10,
   "id": "393a0fa7",
   "metadata": {},
   "outputs": [
    {
     "name": "stdout",
     "output_type": "stream",
     "text": [
      "\n",
      "📁 저장 완료: 연도별_시간별_단속건수.csv\n"
     ]
    }
   ],
   "source": [
    "# CSV 파일로 저장\n",
    "output_path = \"연도별_시간별_단속건수.csv\"\n",
    "df_grouped.to_csv(output_path, index=False, encoding='utf-8-sig')\n",
    "print(f\"\\n📁 저장 완료: {output_path}\")"
   ]
  }
 ],
 "metadata": {
  "hide_input": false,
  "kernelspec": {
   "display_name": "Python 3 (ipykernel)",
   "language": "python",
   "name": "python3"
  },
  "language_info": {
   "codemirror_mode": {
    "name": "ipython",
    "version": 3
   },
   "file_extension": ".py",
   "mimetype": "text/x-python",
   "name": "python",
   "nbconvert_exporter": "python",
   "pygments_lexer": "ipython3",
   "version": "3.11.4"
  },
  "varInspector": {
   "cols": {
    "lenName": 16,
    "lenType": 16,
    "lenVar": 40
   },
   "kernels_config": {
    "python": {
     "delete_cmd_postfix": "",
     "delete_cmd_prefix": "del ",
     "library": "var_list.py",
     "varRefreshCmd": "print(var_dic_list())"
    },
    "r": {
     "delete_cmd_postfix": ") ",
     "delete_cmd_prefix": "rm(",
     "library": "var_list.r",
     "varRefreshCmd": "cat(var_dic_list()) "
    }
   },
   "types_to_exclude": [
    "module",
    "function",
    "builtin_function_or_method",
    "instance",
    "_Feature"
   ],
   "window_display": false
  }
 },
 "nbformat": 4,
 "nbformat_minor": 5
}
