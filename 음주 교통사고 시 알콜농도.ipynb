{
 "cells": [
  {
   "cell_type": "markdown",
   "id": "1d3fcb08",
   "metadata": {},
   "source": [
    "### 헤더 확인"
   ]
  },
  {
   "cell_type": "code",
   "execution_count": 1,
   "id": "05abe7ac",
   "metadata": {
    "scrolled": true
   },
   "outputs": [
    {
     "name": "stderr",
     "output_type": "stream",
     "text": [
      "C:\\Users\\SAMSUNG\\anaconda3\\Lib\\site-packages\\openpyxl\\styles\\stylesheet.py:226: UserWarning: Workbook contains no default style, apply openpyxl's default\n",
      "  warn(\"Workbook contains no default style, apply openpyxl's default\")\n",
      "C:\\Users\\SAMSUNG\\anaconda3\\Lib\\site-packages\\openpyxl\\styles\\stylesheet.py:226: UserWarning: Workbook contains no default style, apply openpyxl's default\n",
      "  warn(\"Workbook contains no default style, apply openpyxl's default\")\n"
     ]
    },
    {
     "data": {
      "text/html": [
       "<div>\n",
       "<style scoped>\n",
       "    .dataframe tbody tr th:only-of-type {\n",
       "        vertical-align: middle;\n",
       "    }\n",
       "\n",
       "    .dataframe tbody tr th {\n",
       "        vertical-align: top;\n",
       "    }\n",
       "\n",
       "    .dataframe thead th {\n",
       "        text-align: right;\n",
       "    }\n",
       "</style>\n",
       "<table border=\"1\" class=\"dataframe\">\n",
       "  <thead>\n",
       "    <tr style=\"text-align: right;\">\n",
       "      <th></th>\n",
       "      <th>음주정도</th>\n",
       "      <th>알콜농도</th>\n",
       "      <th>주야구분</th>\n",
       "      <th>사고건수</th>\n",
       "      <th>사망자수</th>\n",
       "      <th>부상자수</th>\n",
       "      <th>기타_0</th>\n",
       "      <th>기타_1</th>\n",
       "      <th>기타_2</th>\n",
       "      <th>기타_3</th>\n",
       "      <th>...</th>\n",
       "      <th>기타_182</th>\n",
       "      <th>기타_183</th>\n",
       "      <th>기타_184</th>\n",
       "      <th>기타_185</th>\n",
       "      <th>기타_186</th>\n",
       "      <th>기타_187</th>\n",
       "      <th>기타_188</th>\n",
       "      <th>기타_189</th>\n",
       "      <th>기타_190</th>\n",
       "      <th>기타_191</th>\n",
       "    </tr>\n",
       "  </thead>\n",
       "  <tbody>\n",
       "  </tbody>\n",
       "</table>\n",
       "<p>0 rows × 198 columns</p>\n",
       "</div>"
      ],
      "text/plain": [
       "Empty DataFrame\n",
       "Columns: [음주정도, 알콜농도, 주야구분, 사고건수, 사망자수, 부상자수, 기타_0, 기타_1, 기타_2, 기타_3, 기타_4, 기타_5, 기타_6, 기타_7, 기타_8, 기타_9, 기타_10, 기타_11, 기타_12, 기타_13, 기타_14, 기타_15, 기타_16, 기타_17, 기타_18, 기타_19, 기타_20, 기타_21, 기타_22, 기타_23, 기타_24, 기타_25, 기타_26, 기타_27, 기타_28, 기타_29, 기타_30, 기타_31, 기타_32, 기타_33, 기타_34, 기타_35, 기타_36, 기타_37, 기타_38, 기타_39, 기타_40, 기타_41, 기타_42, 기타_43, 기타_44, 기타_45, 기타_46, 기타_47, 기타_48, 기타_49, 기타_50, 기타_51, 기타_52, 기타_53, 기타_54, 기타_55, 기타_56, 기타_57, 기타_58, 기타_59, 기타_60, 기타_61, 기타_62, 기타_63, 기타_64, 기타_65, 기타_66, 기타_67, 기타_68, 기타_69, 기타_70, 기타_71, 기타_72, 기타_73, 기타_74, 기타_75, 기타_76, 기타_77, 기타_78, 기타_79, 기타_80, 기타_81, 기타_82, 기타_83, 기타_84, 기타_85, 기타_86, 기타_87, 기타_88, 기타_89, 기타_90, 기타_91, 기타_92, 기타_93, ...]\n",
       "Index: []\n",
       "\n",
       "[0 rows x 198 columns]"
      ]
     },
     "execution_count": 1,
     "metadata": {},
     "output_type": "execute_result"
    }
   ],
   "source": [
    "import pandas as pd\n",
    "\n",
    "# 파일 경로\n",
    "file_path = \"C:/Users/SAMSUNG/OneDrive/바탕 화면/workspace/미드프로젝트/데이터 분석/데이터 전처리/음주 교통사고 시 알콜농도/data/가해자_음주정도별_주야별_교통사고_20250529134346.xlsx\"\n",
    "\n",
    "# 첫 30행 정도 읽어서 수동 헤더 정의 확인\n",
    "df_temp = pd.read_excel(file_path, sheet_name=\"데이터\", header=None, nrows=30)\n",
    "\n",
    "# 실제 데이터 로딩 (수동으로 헤더 지정)\n",
    "df = pd.read_excel(file_path, sheet_name=\"데이터\", header=None, skiprows=4)\n",
    "\n",
    "# 수동 헤더 할당\n",
    "df.columns = ['음주정도', '알콜농도', '주야구분', '사고건수', '사망자수', '부상자수'] + [f'기타_{i}' for i in range(len(df.columns) - 6)]\n",
    "\n",
    "# 1. '음주운전' 행만 필터링\n",
    "df = df[df['음주정도'] == '음주운전']\n",
    "\n",
    "# 2. 정상운전, 측정불능 제거\n",
    "df = df[~df['알콜농도'].isin(['정상운전', '측정불능'])]\n",
    "\n",
    "# 3. 숫자형 컬럼 정리\n",
    "for col in ['사고건수', '사망자수', '부상자수']:\n",
    "    df[col] = pd.to_numeric(df[col], errors='coerce')\n",
    "\n",
    "# 4. 결측치 제거\n",
    "df_clean = df.dropna(subset=['사고건수'])\n",
    "\n",
    "df_clean.head()\n"
   ]
  },
  {
   "cell_type": "markdown",
   "id": "7d54ab86",
   "metadata": {},
   "source": [
    "### 혈중알코올농도, 주야별, 연도별, 전체건수"
   ]
  },
  {
   "cell_type": "markdown",
   "id": "86a4a514",
   "metadata": {},
   "source": [
    "### 결과 파일 저장"
   ]
  },
  {
   "cell_type": "code",
   "execution_count": 26,
   "id": "d333181c",
   "metadata": {
    "scrolled": false
   },
   "outputs": [
    {
     "name": "stderr",
     "output_type": "stream",
     "text": [
      "C:\\Users\\SAMSUNG\\anaconda3\\Lib\\site-packages\\openpyxl\\styles\\stylesheet.py:226: UserWarning: Workbook contains no default style, apply openpyxl's default\n",
      "  warn(\"Workbook contains no default style, apply openpyxl's default\")\n"
     ]
    },
    {
     "name": "stdout",
     "output_type": "stream",
     "text": [
      "         혈중알코올농도 주야구분    연도    사고건수\n",
      "0    0.03~0.049%    주  2019   214.0\n",
      "1    0.03~0.049%    야  2019   243.0\n",
      "2   0.05%~0.079%    주  2019   903.0\n",
      "3   0.05%~0.079%    야  2019  2032.0\n",
      "4   0.08%~0.149%    주  2019  1501.0\n",
      "5   0.08%~0.149%    야  2019  5092.0\n",
      "6   0.15%~0.199%    주  2019   873.0\n",
      "7   0.15%~0.199%    야  2019  2896.0\n",
      "8   0.20%~0.249%    주  2019   343.0\n",
      "9   0.20%~0.249%    야  2019   887.0\n",
      "10  0.25%~0.299%    주  2019   108.0\n",
      "11  0.25%~0.299%    야  2019   194.0\n",
      "12  0.30%~0.349%    주  2019    36.0\n",
      "13  0.30%~0.349%    야  2019    28.0\n",
      "14       0.35%이상    주  2019    14.0\n",
      "15       0.35%이상    야  2019    13.0\n",
      "16          측정불응    주  2019    93.0\n",
      "17          측정불응    야  2019   238.0\n",
      "18   0.03~0.049%    주  2020   365.0\n",
      "19   0.03~0.049%    야  2020   562.0\n",
      "\n",
      "✅ 연도별 전체 사고건수만 추출하여 저장되었습니다: 음주사고_연도별전체사고건수.csv\n"
     ]
    }
   ],
   "source": [
    "import pandas as pd\n",
    "\n",
    "# 파일 경로\n",
    "file_path = \"C:/Users/SAMSUNG/OneDrive/바탕 화면/workspace/미드프로젝트/데이터 분석/데이터 전처리/음주 교통사고 시 알콜농도/data/가해자_음주정도별_주야별_교통사고_20250529134346.xlsx\"\n",
    "\n",
    "# 멀티헤더 읽기\n",
    "df_raw = pd.read_excel(file_path, sheet_name=\"데이터\", header=[0, 1, 2])\n",
    "\n",
    "# 멀티인덱스 컬럼을 단일 문자열로 변환\n",
    "df_raw.columns = ['_'.join([str(i) for i in col if str(i) != 'nan']).strip() for col in df_raw.columns]\n",
    "\n",
    "# 컬럼 식별\n",
    "headers = df_raw.columns.tolist()\n",
    "col1 = [col for col in headers if '1당음주정도별(1)' in col][0]\n",
    "col2 = [col for col in headers if '1당음주정도별(2)' in col][0]\n",
    "col3 = [col for col in headers if '주야별(1)' in col][0]\n",
    "\n",
    "# '사고건수 (건)' + '전체' 포함된 컬럼만 추출\n",
    "accident_cols = [col for col in headers if '사고건수' in col and '전체' in col]\n",
    "\n",
    "# 결측 보간\n",
    "df_raw[col1] = df_raw[col1].fillna(method='ffill')\n",
    "df_raw[col2] = df_raw[col2].fillna(method='ffill')\n",
    "df_raw[col3] = df_raw[col3].fillna(method='ffill')\n",
    "\n",
    "# 음주운전만 필터링\n",
    "df_filtered = df_raw[df_raw[col1] == '음주운전']\n",
    "\n",
    "# 필요한 컬럼 선택\n",
    "df_selected = df_filtered[[col2, col3] + accident_cols]\n",
    "df_selected.columns = ['혈중알코올농도', '주야구분'] + accident_cols\n",
    "\n",
    "# 와이드 → 롱 포맷 변환\n",
    "df_long = pd.melt(df_selected, \n",
    "                  id_vars=['혈중알코올농도', '주야구분'], \n",
    "                  var_name='컬럼명', \n",
    "                  value_name='사고건수')\n",
    "\n",
    "# 연도 추출\n",
    "df_long['연도'] = df_long['컬럼명'].str.extract(r'(\\d{4})')\n",
    "\n",
    "# 숫자형 변환 및 결측 제거\n",
    "df_long['사고건수'] = pd.to_numeric(df_long['사고건수'], errors='coerce')\n",
    "df_clean = df_long.dropna(subset=['사고건수'])\n",
    "\n",
    "# 최종 정리\n",
    "df_final = df_clean[['혈중알코올농도', '주야구분', '연도', '사고건수']]\n",
    "\n",
    "# 미리보기\n",
    "print(df_final.head(20))\n",
    "\n",
    "# 저장\n",
    "df_final.to_csv(\"음주사고_연도별전체사고건수.csv\", index=False, encoding='utf-8-sig')\n",
    "print(\"\\n✅ 연도별 전체 사고건수만 추출하여 저장되었습니다: 음주사고_연도별전체사고건수.csv\")"
   ]
  },
  {
   "cell_type": "markdown",
   "id": "0c06ba0e",
   "metadata": {},
   "source": [
    "### 주야 구분없이 사고 건수 합치기"
   ]
  },
  {
   "cell_type": "code",
   "execution_count": 29,
   "id": "16df2828",
   "metadata": {
    "scrolled": true
   },
   "outputs": [
    {
     "name": "stdout",
     "output_type": "stream",
     "text": [
      "      연도       혈중알코올농도    사고건수\n",
      "0   2019   0.03~0.049%   457.0\n",
      "1   2019  0.05%~0.079%  2935.0\n",
      "2   2019  0.08%~0.149%  6593.0\n",
      "3   2019  0.15%~0.199%  3769.0\n",
      "4   2019  0.20%~0.249%  1230.0\n",
      "5   2019  0.25%~0.299%   302.0\n",
      "6   2019  0.30%~0.349%    64.0\n",
      "7   2019       0.35%이상    27.0\n",
      "8   2019          측정불응   331.0\n",
      "9   2020   0.03~0.049%   927.0\n",
      "10  2020  0.05%~0.079%  2380.0\n",
      "11  2020  0.08%~0.149%  7986.0\n",
      "12  2020  0.15%~0.199%  3997.0\n",
      "13  2020  0.20%~0.249%  1207.0\n",
      "14  2020  0.25%~0.299%   227.0\n",
      "15  2020  0.30%~0.349%    39.0\n",
      "16  2020       0.35%이상    14.0\n",
      "17  2020          측정불응   470.0\n",
      "18  2021   0.03~0.049%   797.0\n",
      "19  2021  0.05%~0.079%  2103.0\n",
      "\n",
      "✅ 연도별 + 혈중알코올농도별로 주야 합산된 사고건수를 저장했습니다.\n"
     ]
    }
   ],
   "source": [
    "import pandas as pd\n",
    "\n",
    "# CSV 파일 경로\n",
    "file_path = \"음주사고_연도별전체사고건수.csv\"\n",
    "\n",
    "# CSV 불러오기\n",
    "df = pd.read_csv(file_path)\n",
    "\n",
    "# 사고건수를 수치형으로 변환 (혹시나 문자열이 있을 경우)\n",
    "df['사고건수'] = pd.to_numeric(df['사고건수'], errors='coerce')\n",
    "\n",
    "# 주야구분 없이 같은 연도, 같은 알콜농도별로 사고건수 합산\n",
    "df_grouped = df.groupby(['연도', '혈중알코올농도'], as_index=False)['사고건수'].sum()\n",
    "\n",
    "\n",
    "# 미리보기\n",
    "print(df_grouped.head(20))\n",
    "\n",
    "# 결과 저장\n",
    "df_grouped.to_csv('음주사고_연도별_농도별_총사고건수.csv', index=False, encoding='utf-8-sig')\n",
    "print(\"\\n✅ 연도별 + 혈중알코올농도별로 주야 합산된 사고건수를 저장했습니다.\")"
   ]
  },
  {
   "cell_type": "markdown",
   "id": "8d05d27d",
   "metadata": {},
   "source": [
    "### 사망자수만 구하기"
   ]
  },
  {
   "cell_type": "code",
   "execution_count": 19,
   "id": "23c69a7b",
   "metadata": {
    "scrolled": true
   },
   "outputs": [
    {
     "name": "stderr",
     "output_type": "stream",
     "text": [
      "C:\\Users\\SAMSUNG\\anaconda3\\Lib\\site-packages\\openpyxl\\styles\\stylesheet.py:226: UserWarning: Workbook contains no default style, apply openpyxl's default\n",
      "  warn(\"Workbook contains no default style, apply openpyxl's default\")\n"
     ]
    },
    {
     "name": "stdout",
     "output_type": "stream",
     "text": [
      "      연도       혈중알코올농도   사망자수\n",
      "0   2019   0.03~0.049%   12.0\n",
      "1   2019  0.05%~0.079%   77.0\n",
      "2   2019  0.08%~0.149%   73.0\n",
      "3   2019  0.15%~0.199%   69.0\n",
      "4   2019  0.20%~0.249%   45.0\n",
      "5   2019  0.25%~0.299%   14.0\n",
      "6   2019  0.30%~0.349%    3.0\n",
      "7   2019       0.35%이상    2.0\n",
      "8   2019          측정불응    0.0\n",
      "9   2020   0.03~0.049%   25.0\n",
      "10  2020  0.05%~0.079%   55.0\n",
      "11  2020  0.08%~0.149%  102.0\n",
      "12  2020  0.15%~0.199%   49.0\n",
      "13  2020  0.20%~0.249%   38.0\n",
      "14  2020  0.25%~0.299%   13.0\n",
      "15  2020  0.30%~0.349%    4.0\n",
      "16  2020       0.35%이상    1.0\n",
      "17  2020          측정불응    0.0\n",
      "18  2021   0.03~0.049%   12.0\n",
      "19  2021  0.05%~0.079%   52.0\n",
      "\n",
      "✅ 연도별 + 혈중알코올농도별로 주야 합산된 사망자수를 저장했습니다.\n"
     ]
    }
   ],
   "source": [
    "import pandas as pd\n",
    "\n",
    "# 파일 경로\n",
    "file_path = \"C:/Users/SAMSUNG/OneDrive/바탕 화면/workspace/미드프로젝트/데이터 분석/데이터 전처리/음주 교통사고 시 알콜농도/data/가해자_음주정도별_주야별_교통사고_20250529134346.xlsx\"\n",
    "\n",
    "# 멀티헤더 읽기\n",
    "df_raw = pd.read_excel(file_path, sheet_name=\"데이터\", header=[0, 1, 2])\n",
    "\n",
    "# 멀티인덱스 컬럼을 단일 문자열로 변환\n",
    "df_raw.columns = ['_'.join([str(i) for i in col if str(i) != 'nan']).strip() for col in df_raw.columns]\n",
    "\n",
    "# 컬럼 식별\n",
    "headers = df_raw.columns.tolist()\n",
    "col1 = [col for col in headers if '1당음주정도별(1)' in col][0]\n",
    "col2 = [col for col in headers if '1당음주정도별(2)' in col][0]\n",
    "col3 = [col for col in headers if '주야별(1)' in col][0]\n",
    "\n",
    "# '사망자수 (명)' + '전체' 포함된 컬럼만 추출\n",
    "accident_cols = [col for col in headers if '사망자수' in col and '전체' in col]\n",
    "\n",
    "# 결측 보간\n",
    "df_raw[col1] = df_raw[col1].fillna(method='ffill')\n",
    "df_raw[col2] = df_raw[col2].fillna(method='ffill')\n",
    "df_raw[col3] = df_raw[col3].fillna(method='ffill')\n",
    "\n",
    "# 음주운전만 필터링\n",
    "df_filtered = df_raw[df_raw[col1] == '음주운전']\n",
    "\n",
    "# 필요한 컬럼 선택\n",
    "df_selected = df_filtered[[col2, col3] + accident_cols]\n",
    "df_selected.columns = ['혈중알코올농도', '주야구분'] + accident_cols\n",
    "\n",
    "# 와이드 → 롱 포맷 변환\n",
    "df_long = pd.melt(df_selected, \n",
    "                  id_vars=['혈중알코올농도', '주야구분'], \n",
    "                  var_name='컬럼명', \n",
    "                  value_name='사망자수')\n",
    "\n",
    "# 연도 추출\n",
    "df_long['연도'] = df_long['컬럼명'].str.extract(r'(\\d{4})')\n",
    "\n",
    "# 숫자형 변환 및 결측 제거\n",
    "df_long['사망자수'] = pd.to_numeric(df_long['사망자수'], errors='coerce')\n",
    "df_clean = df_long.dropna(subset=['사망자수'])\n",
    "\n",
    "# 최종 정리\n",
    "df_final = df_clean[['혈중알코올농도', '주야구분', '연도', '사망자수']]\n",
    "\n",
    "# 주야구분 없이 같은 연도, 같은 알콜농도별로 사고건수 합산\n",
    "df_final = df_final.groupby(['연도', '혈중알코올농도'], as_index=False)['사망자수'].sum()\n",
    "\n",
    "# 미리보기\n",
    "print(df_final.head(20))\n",
    "\n",
    "# 결과 저장\n",
    "df_final.to_csv('음주사고_연도별_농도별_총사망자수.csv', index=False, encoding='utf-8-sig')\n",
    "print(\"\\n✅ 연도별 + 혈중알코올농도별로 주야 합산된 사망자수를 저장했습니다.\")"
   ]
  }
 ],
 "metadata": {
  "hide_input": false,
  "kernelspec": {
   "display_name": "Python 3 (ipykernel)",
   "language": "python",
   "name": "python3"
  },
  "language_info": {
   "codemirror_mode": {
    "name": "ipython",
    "version": 3
   },
   "file_extension": ".py",
   "mimetype": "text/x-python",
   "name": "python",
   "nbconvert_exporter": "python",
   "pygments_lexer": "ipython3",
   "version": "3.11.4"
  },
  "varInspector": {
   "cols": {
    "lenName": 16,
    "lenType": 16,
    "lenVar": 40
   },
   "kernels_config": {
    "python": {
     "delete_cmd_postfix": "",
     "delete_cmd_prefix": "del ",
     "library": "var_list.py",
     "varRefreshCmd": "print(var_dic_list())"
    },
    "r": {
     "delete_cmd_postfix": ") ",
     "delete_cmd_prefix": "rm(",
     "library": "var_list.r",
     "varRefreshCmd": "cat(var_dic_list()) "
    }
   },
   "types_to_exclude": [
    "module",
    "function",
    "builtin_function_or_method",
    "instance",
    "_Feature"
   ],
   "window_display": false
  }
 },
 "nbformat": 4,
 "nbformat_minor": 5
}
